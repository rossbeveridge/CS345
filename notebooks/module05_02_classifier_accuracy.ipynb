{
 "cells": [
  {
   "cell_type": "markdown",
   "metadata": {},
   "source": [
    "*This notebook is part of  course materials for CS 345: Machine Learning Foundations and Practice at Colorado State University.\n",
    "Original versions were created by Asa Ben-Hur.\n",
    "The content is availabe [on GitHub](https://github.com/asabenhur/CS345).*\n",
    "\n",
    "*The text is released under the [CC BY-SA license](https://creativecommons.org/licenses/by-sa/4.0/), and code is released under the [MIT license](https://opensource.org/licenses/MIT).*\n",
    "\n",
    "<img style=\"padding: 10px; float:right;\" alt=\"CC-BY-SA icon.svg in public domain\" src=\"https://upload.wikimedia.org/wikipedia/commons/d/d0/CC-BY-SA_icon.svg\" width=\"125\">\n"
   ]
  },
  {
   "cell_type": "markdown",
   "metadata": {},
   "source": [
    "<a href=\"https://colab.research.google.com/github//asabenhur/CS345/blob/master/notebooks/module05_02_classifier_accuracy.ipynb\">\n",
    "  <img align=\"left\" src=\"https://colab.research.google.com/assets/colab-badge.svg\" alt=\"Open In Colab\"/>\n",
    "</a>"
   ]
  },
  {
   "cell_type": "code",
   "execution_count": 1,
   "metadata": {},
   "outputs": [
    {
     "data": {
      "application/javascript": [
       "IPython.notebook.set_autosave_interval(0)"
      ]
     },
     "metadata": {},
     "output_type": "display_data"
    },
    {
     "name": "stdout",
     "output_type": "stream",
     "text": [
      "Autosave disabled\n"
     ]
    }
   ],
   "source": [
    "import numpy as np\n",
    "import matplotlib.pyplot as plt\n",
    "%matplotlib inline\n",
    "%autosave 0"
   ]
  },
  {
   "cell_type": "markdown",
   "metadata": {},
   "source": [
    "# Measuring classifier accuracy\n",
    "\n",
    "There is more to measuring classifier accuracy than using the standard accuracy measure defiend as the fraction of examples that are classified correctly.  There are many situations in which this is not the right way of measuring accuracy.  One example is when dealing with data that is imbalanced, ie. when one class has many more examples than the other.\n",
    "\n",
    "### The confusion matrix\n",
    "\n",
    "Before introducing additional measures of accuracy we will explore the **confusion matrix**.  We will do so using the iris dataset:"
   ]
  },
  {
   "cell_type": "code",
   "execution_count": 2,
   "metadata": {},
   "outputs": [
    {
     "name": "stdout",
     "output_type": "stream",
     "text": [
      "(150, 4) (150,)\n"
     ]
    }
   ],
   "source": [
    "from sklearn import datasets\n",
    "iris = datasets.load_iris()\n",
    "X=iris.data\n",
    "y=iris.target\n",
    "print(X.shape, y.shape)"
   ]
  },
  {
   "cell_type": "markdown",
   "metadata": {},
   "source": [
    "We will use a nearest neighbor classifier for obtaining predictions:"
   ]
  },
  {
   "cell_type": "code",
   "execution_count": 3,
   "metadata": {},
   "outputs": [
    {
     "data": {
      "text/plain": [
       "0.96"
      ]
     },
     "execution_count": 3,
     "metadata": {},
     "output_type": "execute_result"
    }
   ],
   "source": [
    "from sklearn.neighbors import KNeighborsClassifier\n",
    "from sklearn.model_selection import cross_val_predict\n",
    "\n",
    "classifier = KNeighborsClassifier(n_neighbors=1)\n",
    "\n",
    "y_pred = cross_val_predict(classifier, X, y, cv=5)\n",
    "np.mean(y==y_pred)"
   ]
  },
  {
   "cell_type": "markdown",
   "metadata": {},
   "source": [
    "#### Definition of the confusion matrix\n",
    "\n",
    "Rows of the confusion matrix correspond to the true labels, while columns correspond to the predicted labels.\n",
    "The elements of the matrix in a given row quantify how predictions are distributed across the different classes.\n",
    "More formally, element $i, j$ in the matrix is the number of examples from class $i$ predicted to be in class $j$.\n",
    "As its name suggests, it tells us where the classifiers tends to be confused.\n",
    "Using the k-nearest neighbors classifier we obtain the following confusion matrix for our predictions on the iris dataset:\n"
   ]
  },
  {
   "cell_type": "code",
   "execution_count": 4,
   "metadata": {},
   "outputs": [
    {
     "name": "stdout",
     "output_type": "stream",
     "text": [
      "['setosa' 'versicolor' 'virginica']\n",
      "[[50  0  0]\n",
      " [ 0 47  3]\n",
      " [ 0  3 47]]\n"
     ]
    }
   ],
   "source": [
    "from sklearn.metrics import confusion_matrix\n",
    "print (iris.target_names)\n",
    "matrix = confusion_matrix(y, y_pred)\n",
    "print (matrix)"
   ]
  },
  {
   "cell_type": "markdown",
   "metadata": {},
   "source": [
    "Scikit-learn has a function for making nicer visualization of the confusion matrix:"
   ]
  },
  {
   "cell_type": "code",
   "execution_count": 5,
   "metadata": {},
   "outputs": [
    {
     "data": {
      "image/png": "[encoded data removed]",
      "text/plain": [
       "<Figure size 432x288 with 2 Axes>"
      ]
     },
     "metadata": {
      "needs_background": "light"
     },
     "output_type": "display_data"
    }
   ],
   "source": [
    "from sklearn.metrics._plot import confusion_matrix as cm\n",
    "\n",
    "disp=cm.ConfusionMatrixDisplay(confusion_matrix=matrix,\n",
    "                               display_labels=iris.target_names)\n",
    "disp.plot(include_values=True,\n",
    "          cmap=plt.cm.Blues);"
   ]
  },
  {
   "cell_type": "markdown",
   "metadata": {},
   "source": [
    "Here, we used  \"unofficial\" scikit-learn functionality for plotting the confusion matrix.  Their \"official\" (i.e. documented method) is [plot_confusion_matrix](https://scikit-learn.org/stable/modules/generated/sklearn.metrics.plot_confusion_matrix.html).  This method takes in a classifier and a test set.  It then generates the predictions for the test set and plots the resulting confusion matrix.  It thus precludes plotting predictions generated using cross-validation.\n",
    "\n",
    "Note that scikit-learn uses a convention that is different than other sources for labeling the axes of the confusion matrix (see e.g. the [wikipedia article on the confusion matrix](https://en.wikipedia.org/wiki/Confusion_matrix)).\n",
    "\n",
    "### Question\n",
    "\n",
    "How do you compute the accuracy of the classifier from the confusion matrix?"
   ]
  },
  {
   "cell_type": "markdown",
   "metadata": {},
   "source": [
    "The confusion matrix provides more information than accuracy:  for this dataset it tells us that the classifier has some difficulty distinguishing between iris-versicolor and iris-virginica, while iris-setosa is perfectly distinguishable from the other two classes.\n",
    "This makes sense in view of the following visualization of the data that demonstrates the overlap between iris-versicolor and iris-virginica:"
   ]
  },
  {
   "cell_type": "code",
   "execution_count": 6,
   "metadata": {},
   "outputs": [],
   "source": [
    "def scatter_with_legend(X, y, ax, class_names) :\n",
    "    colors = ['ob', 'or', 'oc']\n",
    "    for c in range(len(class_names)):\n",
    "        idx = (y==c)\n",
    "        ax.plot(X[idx,0], X[idx,1], colors[c], \n",
    "                label = class_names[c], alpha=0.5)\n",
    "    ax.legend()"
   ]
  },
  {
   "cell_type": "code",
   "execution_count": 7,
   "metadata": {},
   "outputs": [
    {
     "data": {
      "text/plain": [
       "Text(0.5, 1.0, 'last two features of iris data')"
      ]
     },
     "execution_count": 7,
     "metadata": {},
     "output_type": "execute_result"
    },
    {
     "data": {
      "image/png": "[encoded data removed]",
      "text/plain": [
       "<Figure size 576x288 with 2 Axes>"
      ]
     },
     "metadata": {
      "needs_background": "light"
     },
     "output_type": "display_data"
    }
   ],
   "source": [
    "f, (ax1, ax2) = plt.subplots(1, 2, figsize=(8,4))\n",
    "scatter_with_legend(X[:,[0, 1]], y, ax1, iris.target_names)\n",
    "scatter_with_legend(X[:,[2, 3]], y, ax2, iris.target_names)\n",
    "ax1.set_title('first two features of iris data')\n",
    "ax2.set_title('last two features of iris data')"
   ]
  },
  {
   "cell_type": "markdown",
   "metadata": {},
   "source": [
    "### The confusion matrix for binary classification problems\n",
    "\n",
    "For binary classification problems we have special terminology that we will present next.\n",
    "First, we will take a look at a confusion matrix for a binary classification problem:"
   ]
  },
  {
   "cell_type": "code",
   "execution_count": 8,
   "metadata": {},
   "outputs": [
    {
     "name": "stdout",
     "output_type": "stream",
     "text": [
      "number of examples  569\n",
      "number of features  30\n",
      "['malignant' 'benign']\n"
     ]
    }
   ],
   "source": [
    "from sklearn.datasets import load_breast_cancer\n",
    "data = load_breast_cancer()\n",
    "\n",
    "X = data.data\n",
    "y = data.target\n",
    "print('number of examples ', len(y))\n",
    "print('number of features ', len(X[0]))\n",
    "print(data.target_names)"
   ]
  },
  {
   "cell_type": "code",
   "execution_count": 11,
   "metadata": {},
   "outputs": [
    {
     "data": {
      "image/png": "[encoded data removed]",
      "text/plain": [
       "<Figure size 432x288 with 2 Axes>"
      ]
     },
     "metadata": {
      "needs_background": "light"
     },
     "output_type": "display_data"
    }
   ],
   "source": [
    "from sklearn.model_selection import train_test_split\n",
    "from sklearn.metrics import plot_confusion_matrix\n",
    "\n",
    "classifier = KNeighborsClassifier(n_neighbors=1)\n",
    "X_train, X_test, y_train, y_test = train_test_split(X, y, \n",
    "                                                    test_size=0.3,\n",
    "                                                    random_state=11)\n",
    "\n",
    "classifier = KNeighborsClassifier(n_neighbors=3)\n",
    "classifier.fit(X_train, y_train)\n",
    "\n",
    "# plot the confusion matrix\n",
    "plot_confusion_matrix(classifier, X_test, y_test,\n",
    "                      display_labels=data.target_names,\n",
    "                      cmap=plt.cm.Blues,\n",
    "                      values_format='d');"
   ]
  },
  {
   "cell_type": "markdown",
   "metadata": {},
   "source": [
    "In the case of a binary classification problem the entries in the confusion matrix have names:\n",
    "\n",
    "| True / Predicted | positive            | negative            |\n",
    "| :--------------- |:------------------- | :------------------ |\n",
    "| **positive**     | true positive (TP)  | false negative (FN) |\n",
    "| **negative**     | false positive (FP) | true negative (TN)  |\n",
    "\n",
    "\n",
    "Let's define $\\mathrm{P} = \\mathrm{TP} + \\mathrm{FN}$ and $\\mathrm{N} = \\mathrm{FP} + \\mathrm{TN}$.\n",
    "In terms of the entries of the confusion matrix we can define additional measures of accuracy that are commonly used in machine learning:\n",
    "\n",
    "**Recall** (true positive rate):\n",
    "\n",
    "$$\n",
    "\\mathrm {recall} =\\frac {\\mathrm {TP} }{\\mathrm {P} }\n",
    "=\\frac {\\mathrm {TP} }{\\mathrm {TP} +\\mathrm {FN} }\n",
    "$$\n",
    "\n",
    "Recall tells us what fraction of the positive examples our classifier is able to classify correctly.\n",
    "The true negative rate, or specifcity is defined analogously as $\\mathrm{TN} / \\mathrm{N}$.\n",
    "\n",
    "**Precision:**\n",
    "\n",
    "$$\n",
    " \\mathrm {precision} =\\frac {\\mathrm {TP} }{\\mathrm {TP} +\\mathrm {FP} }\n",
    "$$\n",
    "\n",
    "Precision tells us how accurate are the positive predictions, i.e. when the classifier makes a positive prediction, how likely it is to be correct.\n",
    "\n",
    "**Accuracy**:\n",
    "\n",
    "$$\n",
    "\\mathrm{accuracy}= \n",
    "\\frac{\\mathrm{TP} + \\mathrm{TN}}{\\mathrm{P + N}}\n",
    "$$\n",
    "\n",
    "\n",
    "**Balanced accuracy** is the mean of recall (true positive rate) and specificity (true negative rate):\n",
    "\n",
    "$$\n",
    "\\mathrm{balanced-accuracy}= \n",
    "\\frac{1}{2}\\left( \\frac{\\mathrm{TP}}{\\mathrm{P}} + \\frac{\\mathrm{TN}}{\\mathrm{N}}  \\right)\n",
    "$$\n",
    "\n",
    "Earlier in the course we pointed out that the standard measure of accuracy is not a good indication of  success for data that is imbalanced.  In particular, we have seen that the majority classifier has very high accuracy for imbalanced data.  Balanced accuracy addresses this shortcoming.\n",
    "\n",
    "The **F1 score** is the harmonic mean of precision and recall:\n",
    "\n",
    "$$\n",
    "\\mathrm {F} _{1}=2\\cdot {\\frac {\\mathrm {precision} \\cdot \\mathrm {recall} }{\\mathrm {precision} +\\mathrm {recall} }}\n",
    "$$\n",
    "\n",
    "The F1 score is commonly used in the field of information retrieval to measure performance in search, text categorization, and other natural language processing applications.\n",
    "The F1 score focuses on true positives and does not take into account into account true negatives.  Its focus is on how well a classifier is performing in retrieving relevant items.\n",
    "\n",
    "### Exercises\n",
    "\n",
    "* Recall and precision are competing goals.  Give examples of applications where high precision is more important than high recall.  Similarly, think of applications where high recall is more important.\n",
    "* What is the balanced accuracy of the majority classifier?\n",
    "* Show that when the data has an equal number of positive and negative examples, balanced accuracy is equal to accuracy.\n"
   ]
  },
  {
   "cell_type": "markdown",
   "metadata": {},
   "source": [
    "This by no means exhausts the available options of accuracy measures for classification problems.  Precision-recall curves and ROC curves are  useful visual tools for exploring a classifier's performance."
   ]
  }
 ],
 "metadata": {
  "kernelspec": {
   "display_name": "Python 3",
   "language": "python",
   "name": "python3"
  },
  "language_info": {
   "codemirror_mode": {
    "name": "ipython",
    "version": 3
   },
   "file_extension": ".py",
   "mimetype": "text/x-python",
   "name": "python",
   "nbconvert_exporter": "python",
   "pygments_lexer": "ipython3",
   "version": "3.7.6"
  }
 },
 "nbformat": 4,
 "nbformat_minor": 4
}
