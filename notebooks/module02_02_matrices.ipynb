{
 "cells": [
  {
   "cell_type": "markdown",
   "metadata": {},
   "source": [
    "*This notebook is part of  course materials for CS 345: Machine Learning Foundations and Practice at Colorado State University.\n",
    "Original versions were created by Asa Ben-Hur.\n",
    "The content is availabe [on GitHub](https://github.com/asabenhur/CS345).*\n",
    "\n",
    "*The text is released under the [CC BY-SA license](https://creativecommons.org/licenses/by-sa/4.0/), and code is released under the [MIT license](https://opensource.org/licenses/MIT).*\n",
    "\n",
    "<img style=\"padding: 10px; float:right;\" alt=\"CC-BY-SA icon.svg in public domain\" src=\"https://upload.wikimedia.org/wikipedia/commons/d/d0/CC-BY-SA_icon.svg\" width=\"125\">\n"
   ]
  },
  {
   "cell_type": "markdown",
   "metadata": {},
   "source": [
    "<a href=\"https://colab.research.google.com/github//asabenhur/CS345/blob/master/notebooks/module02_02_matrices.ipynb\">\n",
    "  <img align=\"left\" src=\"https://colab.research.google.com/assets/colab-badge.svg\" alt=\"Open In Colab\"/>\n",
    "</a>"
   ]
  },
  {
   "cell_type": "code",
   "execution_count": 1,
   "metadata": {},
   "outputs": [
    {
     "data": {
      "application/javascript": [
       "IPython.notebook.set_autosave_interval(0)"
      ]
     },
     "metadata": {},
     "output_type": "display_data"
    },
    {
     "name": "stdout",
     "output_type": "stream",
     "text": [
      "Autosave disabled\n"
     ]
    }
   ],
   "source": [
    "import numpy as np\n",
    "%autosave 0"
   ]
  },
  {
   "cell_type": "markdown",
   "metadata": {},
   "source": [
    "# Matrices and matrix operations\n",
    "\n",
    "In this notebook we will introduce matrices as an efficient way to store and manipulate datasets.  We will describe them from a mathematical perspective, and how they are implemented in Python using Numpy.\n",
    "\n",
    "A **matrix** is a rectangular array of scalar values (i.e. numbers), which are the **elements** of the matrix.\n",
    "For example\n",
    "\n",
    "\\begin{pmatrix} 1 & 2 & 3 \\\\ 4 & 5 & 6 \\end{pmatrix}\n",
    "\n",
    "Like, vectors, matrices are ubiquitous in machine learning.\n",
    "In fact, it's going to be very useful to think of a matrix as a list of vectors.\n",
    "Those vectors, either make up the rows or columns of the matrix, as we will see below.\n",
    "\n",
    "With that in mind, matrices provide us the means to express operations on multiple vectors all at once, which in Numpy, will lead to more efficient code."
   ]
  },
  {
   "cell_type": "markdown",
   "metadata": {},
   "source": [
    "### Matrices in Python\n",
    "\n",
    "As was the case for vectors, we can represent matrices using Python lists.  Except, that here, we use lists-of-lists:"
   ]
  },
  {
   "cell_type": "code",
   "execution_count": 2,
   "metadata": {},
   "outputs": [],
   "source": [
    "X = [\n",
    "    [1, 2, 3],\n",
    "    [4, 5, 6]\n",
    "]"
   ]
  },
  {
   "cell_type": "markdown",
   "metadata": {},
   "source": [
    "Numpy provides a much more efficient way to represent and manipulate matrix.  It also supports optimized implementations of many matrix operations.  So instead, we will opt for:\n"
   ]
  },
  {
   "cell_type": "code",
   "execution_count": 3,
   "metadata": {},
   "outputs": [
    {
     "data": {
      "text/plain": [
       "array([[1, 2, 3],\n",
       "       [4, 5, 6]])"
      ]
     },
     "execution_count": 3,
     "metadata": {},
     "output_type": "execute_result"
    }
   ],
   "source": [
    "X = np.array([\n",
    "    [1, 2 ,3],\n",
    "    [4, 5, 6]\n",
    "])\n",
    "X"
   ]
  },
  {
   "cell_type": "markdown",
   "metadata": {},
   "source": [
    "By convention, we will use uppercase names to refer to matrices.\n"
   ]
  },
  {
   "cell_type": "markdown",
   "metadata": {},
   "source": [
    "### The shape of a matrix\n",
    "\n",
    "The shape of a matrix is its number of rows and columns.\n",
    "By convention, an $n \\times m$ matrix has $n$ rows and $m$ columns.\n",
    "For example, the matrix $X$ defined above is a $2 \\times 3$ matrix.\n",
    "\n",
    "In Numpy, the shape attribute provides that information:"
   ]
  },
  {
   "cell_type": "code",
   "execution_count": 4,
   "metadata": {},
   "outputs": [
    {
     "data": {
      "text/plain": [
       "(2, 3)"
      ]
     },
     "execution_count": 4,
     "metadata": {},
     "output_type": "execute_result"
    }
   ],
   "source": [
    "X.shape"
   ]
  },
  {
   "cell_type": "markdown",
   "metadata": {},
   "source": [
    "**Note**: the size attribute of a Numpy array is its total number of elements."
   ]
  },
  {
   "cell_type": "markdown",
   "metadata": {},
   "source": [
    "### Indexing\n",
    "\n",
    "The number in the $i^{th}$ row, and $j^{th}$ column of a matrix $X$ is sometimes denoted as $X_{i,j}$ or $X_{ij}$.\n",
    "Using this notation we can express a matrix $X$ from its elements as:\n",
    "\n",
    "$$\n",
    "X = \\begin{pmatrix}\n",
    "  X_{1,1} & X_{1,2} & X_{1,3} &\\ldots & X_{1,m}\\\\\n",
    "  X_{2,1} & X_{2,2} & X_{2,3} & \\ldots & X_{2,m}\\\\\n",
    "  \\vdots & \\vdots & \\vdots & \\ddots & \\vdots \\\\\n",
    "  X_{n,1} & X_{n,2} & X_{n,3} & \\cdots & X_{n,m}\\\\\n",
    "\\end{pmatrix}\n",
    "$$\n",
    "\n",
    "In math indices generally start at 1. But in programming we use 0-based indexing. So to access $X_{2,3}$ programmatically, we need to write this:"
   ]
  },
  {
   "cell_type": "code",
   "execution_count": 5,
   "metadata": {},
   "outputs": [
    {
     "data": {
      "text/plain": [
       "6"
      ]
     },
     "execution_count": 5,
     "metadata": {},
     "output_type": "execute_result"
    }
   ],
   "source": [
    "X[1,2]  # 2nd row, 3rd column"
   ]
  },
  {
   "cell_type": "markdown",
   "metadata": {},
   "source": [
    "\n",
    "### Matrices for representing machine learning data\n",
    "\n",
    "Recall that we defined a labeled dataset as a collection of vectors and their associated labels:\n",
    "$\n",
    "\\mathcal{D} = \\{ \\;(\\mathbf{x}_i, y_i) \\; \\}_{i=1}^N,\n",
    "$\n",
    "where $\\mathbf{x}_i \\in \\mathbb{R}^d$ and $y_i$ is the label associated with $\\mathbf{x}_i$.\n",
    "\n",
    "As we have seen before, the collection of feature vectors in a dataset can be combined into a matrix $X$ whose rows are the vectors $\\mathbf{x}_i$, i.e.\n",
    "\n",
    "$$\n",
    "X = \\begin{pmatrix}\n",
    "  - & \\mathbf{x}_1^\\top & - \\\\\n",
    "  - & \\mathbf{x}_2^\\top & - \\\\\n",
    "   & \\vdots &  \\\\\n",
    "  - & \\mathbf{x}_N^\\top & - \\\\\n",
    "\\end{pmatrix}\n",
    "$$\n",
    "\n",
    "\n",
    "The matrix $X$ has dimensions $N \\times d$.\n",
    "\n"
   ]
  },
  {
   "cell_type": "markdown",
   "metadata": {},
   "source": [
    "### Operations on matrices\n",
    "\n",
    "Matrices support addition and multiplication by a scalar, in the same we have seen for vectors.\n",
    "\n",
    "\n",
    "#### Matrix-vector multiplication\n",
    "\n",
    "Given a matrix $X$ of size $N \\times d$ and a $d$ dimensional vector $\\mathbf{w}$, we can define the matrix-vector product $X \\mathbf{w}$ to be an $N$-dimensional vector \n",
    "\n",
    "$$\n",
    "X \\mathbf{w} = ( \\mathbf{x}_1^\\top \\mathbf{w}, \\ldots, \\mathbf{x}_N^\\top \\mathbf{w}),\n",
    "$$\n",
    "\n",
    "where $\\mathbf{x}_1, \\ldots ,\\mathbf{x}_N$ are the vectors that make up the rows of $X$.\n",
    "\n",
    "In Numpy this operation can be performed by the same function used for dot-products between vectors:\n"
   ]
  },
  {
   "cell_type": "code",
   "execution_count": 6,
   "metadata": {},
   "outputs": [
    {
     "data": {
      "text/plain": [
       "array([ 6, 15])"
      ]
     },
     "execution_count": 6,
     "metadata": {},
     "output_type": "execute_result"
    }
   ],
   "source": [
    "X = np.array([\n",
    "    [1, 2 ,3],\n",
    "    [4, 5, 6]\n",
    "])\n",
    "w = np.array([1,1,1])\n",
    "np.dot(X, w)"
   ]
  },
  {
   "cell_type": "markdown",
   "metadata": {},
   "source": [
    "An equivalent way of expressing the matrix-vector product uses the `@` operator:"
   ]
  },
  {
   "cell_type": "code",
   "execution_count": 7,
   "metadata": {},
   "outputs": [
    {
     "data": {
      "text/plain": [
       "array([ 6, 15])"
      ]
     },
     "execution_count": 7,
     "metadata": {},
     "output_type": "execute_result"
    }
   ],
   "source": [
    "X @ w"
   ]
  },
  {
   "cell_type": "markdown",
   "metadata": {},
   "source": [
    "The same result can be obtained by stacking dot products row by row (but with a loss of efficiency):"
   ]
  },
  {
   "cell_type": "code",
   "execution_count": 8,
   "metadata": {},
   "outputs": [
    {
     "data": {
      "text/plain": [
       "array([ 6, 15])"
      ]
     },
     "execution_count": 8,
     "metadata": {},
     "output_type": "execute_result"
    }
   ],
   "source": [
    "np.array([np.dot(X[0], w), np.dot(X[1], w)])"
   ]
  },
  {
   "cell_type": "markdown",
   "metadata": {},
   "source": [
    "This operation is very useful for expressing the workings of a linear model on an entire dataset.\n",
    "\n",
    "The matrix-vector product requires that the number of columns of the matrix matches the length of the vector.  It is therefore sensitive to the order of its arguments:"
   ]
  },
  {
   "cell_type": "code",
   "execution_count": 9,
   "metadata": {},
   "outputs": [
    {
     "name": "stdout",
     "output_type": "stream",
     "text": [
      "the order of arguments matters for np.dot\n"
     ]
    }
   ],
   "source": [
    "try :\n",
    "    print(np.dot(w, X))\n",
    "except :\n",
    "    print(\"the order of arguments matters for np.dot\")\n",
    "        "
   ]
  },
  {
   "cell_type": "markdown",
   "metadata": {},
   "source": [
    "\n",
    "The matrix-vector product discussed above is a special case of the general matrix multiplication operation.  We will defer its definition until it is needed for neural networks.\n",
    "\n",
    "The `@` operator was introduced in version 3.5 of Python (the following document discusses the official [proposal](https://www.python.org/dev/peps/pep-0465/) for adding it to the language).\n",
    "\n"
   ]
  }
 ],
 "metadata": {
  "kernelspec": {
   "display_name": "Python 3",
   "language": "python",
   "name": "python3"
  },
  "language_info": {
   "codemirror_mode": {
    "name": "ipython",
    "version": 3
   },
   "file_extension": ".py",
   "mimetype": "text/x-python",
   "name": "python",
   "nbconvert_exporter": "python",
   "pygments_lexer": "ipython3",
   "version": "3.7.6"
  }
 },
 "nbformat": 4,
 "nbformat_minor": 4
}
