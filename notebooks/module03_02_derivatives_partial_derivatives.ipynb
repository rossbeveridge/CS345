{
 "cells": [
  {
   "cell_type": "markdown",
   "metadata": {},
   "source": [
    "*This notebook is part of  course materials for CS 345: Machine Learning Foundations and Practice at Colorado State University.\n",
    "Original versions were created by Asa Ben-Hur.\n",
    "The content is availabe [on GitHub](https://github.com/asabenhur/CS345).*\n",
    "\n",
    "*The text is released under the [CC BY-SA license](https://creativecommons.org/licenses/by-sa/4.0/), and code is released under the [MIT license](https://opensource.org/licenses/MIT).*\n",
    "\n",
    "<img style=\"padding: 10px; float:right;\" alt=\"CC-BY-SA icon.svg in public domain\" src=\"https://upload.wikimedia.org/wikipedia/commons/d/d0/CC-BY-SA_icon.svg\" width=\"125\">\n"
   ]
  },
  {
   "cell_type": "markdown",
   "metadata": {},
   "source": [
    "<a href=\"https://colab.research.google.com/github//asabenhur/CS345/blob/master/notebooks/module03_02_derivatives_partial_derivatives.ipynb\">\n",
    "  <img align=\"left\" src=\"https://colab.research.google.com/assets/colab-badge.svg\" alt=\"Open In Colab\"/>\n",
    "</a>"
   ]
  },
  {
   "cell_type": "code",
   "execution_count": 2,
   "metadata": {},
   "outputs": [
    {
     "data": {
      "application/javascript": [
       "IPython.notebook.set_autosave_interval(0)"
      ]
     },
     "metadata": {},
     "output_type": "display_data"
    },
    {
     "name": "stdout",
     "output_type": "stream",
     "text": [
      "Autosave disabled\n"
     ]
    }
   ],
   "source": [
    "%matplotlib inline\n",
    "%autosave 0\n",
    "import matplotlib.pyplot as plt\n",
    "import numpy as np"
   ]
  },
  {
   "cell_type": "markdown",
   "metadata": {},
   "source": [
    "# Derivatives and partial derivatives\n",
    "\n",
    "To solve linear regression we need to review the concept of derivatives, and how they can be used to find minima/maxima of a function of a single variable.  We will then extend these ideas to multivariate functions like the ones we deal with in machine learning.\n",
    "\n",
    "### Derivatives\n",
    "\n",
    "As you recall, the derivative of a function of a single variable indicates the steepness of the curve at a given point.\n",
    "The following figure demonstrates that."
   ]
  },
  {
   "cell_type": "code",
   "execution_count": 3,
   "metadata": {},
   "outputs": [
    {
     "data": {
      "image/png": "[encoded data removed]",
      "text/plain": [
       "<Figure size 500x300 with 1 Axes>"
      ]
     },
     "metadata": {},
     "output_type": "display_data"
    }
   ],
   "source": [
    "plt.style.use('default')\n",
    "plt.figure(figsize=(5,3))\n",
    "\n",
    "def f(x):\n",
    "    return x**3 + 10*x\n",
    "\n",
    "def f_deriv(x):\n",
    "    return (3 * x**2) + 10\n",
    "\n",
    "x = np.linspace(0,9, 100)\n",
    "y = f(x)\n",
    "\n",
    "x1 = 5\n",
    "y1 = f(x1)\n",
    "deriv = f_deriv(x1)\n",
    "\n",
    "plt.xlabel('x')\n",
    "plt.ylabel('f(x)')\n",
    "\n",
    "plt.plot(x, y)\n",
    "\n",
    "plt.scatter(x1,y1, c='red')\n",
    "plt.annotate(r'$(x^*,f(x^*))$',(x1,y1), xytext=(x1-0.5, y1-100))\n",
    "\n",
    "# plot the tangent line at the point (x1,y1)\n",
    "xMin = x1 - 2\n",
    "yMin = y1 - (2*deriv)\n",
    "xMax = x1 + 2\n",
    "yMax = y1 + (2*deriv)\n",
    "plt.plot([xMin,xMax],[yMin,yMax], color='magenta');\n"
   ]
  },
  {
   "cell_type": "markdown",
   "metadata": {},
   "source": [
    "The line tangent to $f(x)$ at the point $x^*$ has a slope that is equal to the derivative of $f$ at that point."
   ]
  },
  {
   "cell_type": "markdown",
   "metadata": {
    "hideOutput": true
   },
   "source": [
    "#### Derivaties of common function\n",
    "\n",
    "The following is a review of the derivative rules you will need to take the derivatives of the functions we will encounter in this course.\n",
    "\n",
    "The *power rule*\n",
    "\n",
    "\\begin{equation}\n",
    "\\frac{d}{dx} x^{n} = nx^{n-1}\n",
    "\\end{equation}\n",
    "\n",
    "The *product rule*\n",
    "\n",
    "\\begin{equation}\n",
    "\\frac{d}{dx}[f(x)g(x)] = f'(x)g(x) + f(x)g'(x) \n",
    "\\end{equation}\n",
    "\n",
    "The *quotient rule*\n",
    "\n",
    "\\begin{equation}\n",
    "\\frac{d}{dx}\\left[\\frac{f(x)}{g(x)}\\right] = \\frac{f'(x)g(x) - f(x)g'(x)}{g(x)^2}\n",
    "\\end{equation}\n",
    "\n",
    "\n",
    "The *chain rule* \n",
    "\n",
    "\\begin{equation}\n",
    "\\frac{d}{dx}[f(g(x))] = f'(g(x)) \\cdot g'(x)\n",
    "\\end{equation}\n",
    "\n",
    "which can be expressed as:\n",
    "\n",
    "\\begin{equation}\n",
    "\\frac{du}{dx} = \\frac{d\\!f}{dg}\\frac{dg}{dx}\n",
    "\\end{equation}\n",
    "\n",
    "\n",
    "Differentiating logs and exponentials:\n",
    "\n",
    "$$\n",
    "\\frac{d}{dx}e^x = e^x\n",
    "$$\n",
    "\n",
    "$$\n",
    "\\frac{d}{dx}\\log x = \\frac{1}{x}\n",
    "$$\n"
   ]
  },
  {
   "cell_type": "markdown",
   "metadata": {},
   "source": [
    "### Exercises\n",
    "\n",
    "Compute the derivaties of the following functions:\n",
    "\n",
    "$$\n",
    "\\sigma(x) = \\frac{1}{1 + e^{-x}}\n",
    "$$\n",
    "\n",
    "$$\n",
    "f(x) = e^{-(x-\\mu)^2}\n",
    "$$"
   ]
  },
  {
   "cell_type": "markdown",
   "metadata": {},
   "source": [
    "### Finding maxima and minima\n",
    "\n",
    "To find the minimum/maximum of a function, look for points at which the derivative is 0.\n",
    "\n",
    "Consider for example the function $f(x) = x^2 + 10x$.\n",
    "\n",
    "The derivative:\n",
    "\n",
    "$$\n",
    "\\frac{d\\!f}{dx} = 2x + 10\n",
    "$$\n",
    "\n",
    "Setting to 0 and solving for $x$ we find that the minimum is at $x=-5$.\n",
    "How did we know that it's a minimum and not a maximum?  That is based on the sign of the second derivative (positive for a minimum, negative for a maximum, zero for a saddle point).\n",
    "\n",
    "Let's see a plot of the function:"
   ]
  },
  {
   "cell_type": "code",
   "execution_count": 6,
   "metadata": {},
   "outputs": [
    {
     "data": {
      "image/png": "[encoded data removed]",
      "text/plain": [
       "<Figure size 432x288 with 1 Axes>"
      ]
     },
     "metadata": {
      "needs_background": "light"
     },
     "output_type": "display_data"
    }
   ],
   "source": [
    "def f(x):\n",
    "    return x**2 + 10*x\n",
    "\n",
    "def f_deriv(x):\n",
    "    return 2*x + 10\n",
    "\n",
    "x = np.linspace(-15,5,100)\n",
    "y = f(x)\n",
    "\n",
    "plt.xlabel('x')\n",
    "plt.ylabel('f(x)')\n",
    "\n",
    "plt.plot(x, y);\n"
   ]
  },
  {
   "cell_type": "markdown",
   "metadata": {},
   "source": [
    "In this case the function has a single global minimum.  Often, we are not so lucky.\n",
    "Consider for example the function\n",
    "\n",
    "$$\n",
    "g(x) = x^4 + 7x^3 + 5x^2 - 17x\n",
    "$$\n",
    "\n",
    "As the following plot shows, this function has multiple minima.   "
   ]
  },
  {
   "cell_type": "code",
   "execution_count": 7,
   "metadata": {},
   "outputs": [
    {
     "data": {
      "image/png": "[encoded data removed]",
      "text/plain": [
       "<Figure size 432x288 with 1 Axes>"
      ]
     },
     "metadata": {
      "needs_background": "light"
     },
     "output_type": "display_data"
    }
   ],
   "source": [
    "def g(x):\n",
    "    return x**4 + 7*x**3 + 5*x**2 -17*x\n",
    "\n",
    "def g_deriv(x):\n",
    "    return 4*x**3 + 21*x**2 + 10*x - 17\n",
    "\n",
    "x = np.linspace(-6, 2, 100)\n",
    "\n",
    "plt.xlabel('x')\n",
    "plt.ylabel('g(x)')\n",
    "\n",
    "plt.plot(x, g(x));"
   ]
  },
  {
   "cell_type": "markdown",
   "metadata": {},
   "source": [
    "Also, in this case solving for the minimum is not so easy, so we will consider an alternative method for this problem.\n",
    "\n",
    "### Using derivatives to iteratively reach the minimum\n",
    "\n",
    "For a function of a single variable, the derivative points us to the direction at which we would find a local minimum.  Well, actually it points at the opposite direction, so we would need to consider the negative of the derivative.\n",
    "The idea is to take small steps in the direction of the negative of the derivative, which should converge to a local minimum.  \n",
    "This insight translates to the following algorithm:\n",
    "\n",
    "* Initialize $x(0),\\eta$\n",
    "* for $t = 0,1,\\ldots$\n",
    "  * $x(t+1) = x(t) - \\eta \\frac{d\\!f}{dx}(x(t))$\n",
    "  * if converged, break\n",
    "  \n",
    "Let's illustrate this with the function $g$ we defined above:"
   ]
  },
  {
   "cell_type": "code",
   "execution_count": 10,
   "metadata": {},
   "outputs": [
    {
     "data": {
      "image/png": "[encoded data removed]",
      "text/plain": [
       "<Figure size 432x288 with 1 Axes>"
      ]
     },
     "metadata": {
      "needs_background": "light"
     },
     "output_type": "display_data"
    }
   ],
   "source": [
    "def g(x):\n",
    "    return x**4 + 7*x**3 + 5*x**2 -17*x\n",
    "\n",
    "def g_deriv(x):\n",
    "    return 4*x**3 + 21*x**2 + 10*x - 17\n",
    "\n",
    "eta = 0.01\n",
    "x0 = -2.5 # the initial value\n",
    "x_list = [x0]\n",
    "y_list = [g(x0)]\n",
    "for t in range(1, 20):\n",
    "    x_new = x_list[-1] -eta * g_deriv(x_list[-1])\n",
    "    x_list.append(x_new)\n",
    "    y_list.append(g(x_new))\n",
    "        \n",
    "x_grid = np.linspace(-6, 2, 100)\n",
    "\n",
    "plt.xlabel('x')\n",
    "plt.ylabel('g(x)')\n",
    "\n",
    "plt.plot(x_grid, g(x_grid));\n",
    "plt.plot(x_list, y_list, 'ob', markersize=5, alpha=0.5);"
   ]
  },
  {
   "cell_type": "markdown",
   "metadata": {},
   "source": [
    "In the example above, with the starting point chosen, we were able to find the global minimum of this function.  However, with a different choice, we might only find a **local minimum**:\n"
   ]
  },
  {
   "cell_type": "code",
   "execution_count": 9,
   "metadata": {},
   "outputs": [
    {
     "data": {
      "image/png": "[encoded data removed]",
      "text/plain": [
       "<Figure size 432x288 with 1 Axes>"
      ]
     },
     "metadata": {
      "needs_background": "light"
     },
     "output_type": "display_data"
    }
   ],
   "source": [
    "eta = 0.01\n",
    "x0 = -1 # the initial value\n",
    "x_list = [x0]\n",
    "y_list = [g(x0)]\n",
    "for t in range(1, 20):\n",
    "    x_new = x_list[-1] -eta * g_deriv(x_list[-1])\n",
    "    x_list.append(x_new)\n",
    "    y_list.append(g(x_new))\n",
    "        \n",
    "x_grid = np.linspace(-6, 2, 100)\n",
    "\n",
    "plt.xlabel('x')\n",
    "plt.ylabel('g(x)')\n",
    "\n",
    "plt.plot(x_grid, g(x_grid));\n",
    "plt.plot(x_list, y_list, 'ob', markersize=5, alpha=0.5);"
   ]
  },
  {
   "cell_type": "markdown",
   "metadata": {},
   "source": [
    "### Partial derivatives\n",
    "\n",
    "Until now, we considered derivatives of functions of a single variable.\n",
    "Next, we are going to consider functions of multiple variables, e.g.:\n",
    "\n",
    "$$f(x_1,x_2) = x_1^2 + x_2^2$$\n",
    "\n",
    "We can take a derivative with respect to either $x_1$ or $x_2$. \n",
    "A derivative with respect to a variable while holding the others constant is called the **partial derivative**.  The partial derivative with respect to $x_1$ is denoted as\n",
    "\n",
    "$$\\frac{\\partial f(x_1,x_2)}{\\partial x_1} = \\frac{\\partial (x_1^2 + x_2^2)}{\\partial x_1}$$\n",
    "\n",
    "$f(x_1,x_2)$ is the sum of two terms.  The first is a polynomial in $x_1$ for which we use the power rule, while the second is constant when considered a function of $x_1$.  Therefore we have that:\n",
    "\n",
    "$$\\frac{\\partial (x_1^2 + x_2^2)}{\\partial x_1} = 2x_1$$\n",
    "\n",
    "Overall we have two partial derivatives for this function:\n",
    "\n",
    "$$\\frac{\\partial f(x_1,x_2)}{\\partial x_1} = 2x_1 \\\\\n",
    "\\frac{\\partial f(x_1,x_2)}{\\partial x_2} = 2x_2$$\n",
    "\n",
    "Setting the partial derivatives to 0 and solving for $x_1,x_2$ tells us that $(0,0)$ is an extremum point for $f$.  (An extremum point is a maximum, minimum or saddle point).\n",
    "The condition for determining that an extremum point is indeed a minimum/maximum for multi-variate functions is more complex than for univariate functions, and will not be discussed in this course."
   ]
  },
  {
   "cell_type": "markdown",
   "metadata": {},
   "source": [
    "### Exercises\n",
    "\n",
    "Compute the gradients of the following functions:\n",
    "\n",
    "$$f(x_1,x_2) = 4x_1^2 x_2 + x_2^3$$\n",
    "\n",
    "$$g(x_1,x_2) = - x_1 e^{-2(x_1 + x_2)}$$\n",
    "\n",
    "$$\n",
    "h(x_1, x_2) = \\frac{1}{1 + e^{-(w_1 x_1 + w_2 x_2)}}\n",
    "$$\n"
   ]
  },
  {
   "cell_type": "markdown",
   "metadata": {},
   "source": [
    "### Finding the solution to univariate linear regression\n",
    "\n",
    "Objective:  find $(w,b)$ that minimize \n",
    "$$\n",
    "J( w,b ) = \\sum_{i=1}^N (y_i - \\hat{y}_i)^2.\n",
    "$$\n",
    "For univariate linear regression this takes on the form:\n",
    "$$\n",
    "J( w,b ) = \\sum_{i=1}^N (y_i - (w x_i + b))^2.\n",
    "$$\n",
    "\n",
    "To find the solution, we take the partial derivatives, set them to 0 and solve for $w$ and $b$.\n",
    "Verify that \n",
    "$$\n",
    "\\frac{\\partial J}{\\partial w} = -2 \\sum_{i=1}^n x_i(y_i - (w x_i + b))\n",
    "$$\n",
    "and\n",
    "$$\n",
    "\\frac{\\partial J}{\\partial b} = -2 \\sum_{i=1}^n (y_i - (w x_i + b))\n",
    "$$\n",
    "Setting to 0 gives us two equations in two unknowns that can be solved for.\n",
    "Ultimately, we are interested in the multi-variate version, so we will not seek the solution.\n"
   ]
  },
  {
   "cell_type": "code",
   "execution_count": null,
   "metadata": {},
   "outputs": [],
   "source": []
  }
 ],
 "metadata": {
  "kernelspec": {
   "display_name": "Python 3",
   "language": "python",
   "name": "python3"
  },
  "language_info": {
   "codemirror_mode": {
    "name": "ipython",
    "version": 3
   },
   "file_extension": ".py",
   "mimetype": "text/x-python",
   "name": "python",
   "nbconvert_exporter": "python",
   "pygments_lexer": "ipython3",
   "version": "3.7.6"
  }
 },
 "nbformat": 4,
 "nbformat_minor": 4
}
