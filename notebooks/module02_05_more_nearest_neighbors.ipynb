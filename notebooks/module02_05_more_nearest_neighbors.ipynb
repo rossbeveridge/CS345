{
 "cells": [
  {
   "cell_type": "markdown",
   "metadata": {},
   "source": [
    "*This notebook is part of  course materials for CS 345: Machine Learning Foundations and Practice at Colorado State University.\n",
    "Original versions were created by Asa Ben-Hur.\n",
    "The content is availabe [on GitHub](https://github.com/asabenhur/CS345).*\n",
    "\n",
    "*The text is released under the [CC BY-SA license](https://creativecommons.org/licenses/by-sa/4.0/), and code is released under the [MIT license](https://opensource.org/licenses/MIT).*\n",
    "\n",
    "<img style=\"padding: 10px; float:right;\" alt=\"CC-BY-SA icon.svg in public domain\" src=\"https://upload.wikimedia.org/wikipedia/commons/d/d0/CC-BY-SA_icon.svg\" width=\"125\">\n"
   ]
  },
  {
   "cell_type": "markdown",
   "metadata": {},
   "source": [
    "<a href=\"https://colab.research.google.com/github//asabenhur/CS345/blob/master/notebooks/module02_04_nearest_neighbors.ipynb\">\n",
    "  <img align=\"left\" src=\"https://colab.research.google.com/assets/colab-badge.svg\" alt=\"Open In Colab\"/>\n",
    "</a>"
   ]
  },
  {
   "cell_type": "code",
   "execution_count": 2,
   "metadata": {},
   "outputs": [
    {
     "data": {
      "application/javascript": [
       "IPython.notebook.set_autosave_interval(0)"
      ]
     },
     "metadata": {},
     "output_type": "display_data"
    },
    {
     "name": "stdout",
     "output_type": "stream",
     "text": [
      "Autosave disabled\n"
     ]
    }
   ],
   "source": [
    "import numpy as np\n",
    "from matplotlib import pylab as plt\n",
    "%autosave 0\n",
    "%matplotlib inline"
   ]
  },
  {
   "cell_type": "markdown",
   "metadata": {},
   "source": [
    "# Nearest neighbor classification\n",
    "\n",
    "Recall the nearest neighbor classifier:\n",
    "\n",
    "```\n",
    "Nearest neighbor classifier\n",
    "\n",
    "- Find the example in the training data that is closest to\n",
    "  the example that needs to be classified.\n",
    "- Return its label\n",
    "```"
   ]
  },
  {
   "cell_type": "markdown",
   "metadata": {},
   "source": [
    "## Nearest neighbors for regression\n",
    "\n",
    "We can easily turn our nearest neighbor classifier into a regression method.  In-fact, there is nothing that need change in our implementation - by returning the label of the nearest neighbor, it's already a regression method!"
   ]
  },
  {
   "cell_type": "code",
   "execution_count": 3,
   "metadata": {},
   "outputs": [],
   "source": [
    "def distance(x1, x2):\n",
    "    return np.sqrt(np.dot(x1-x2, x1-x2))\n",
    "\n",
    "class nearest_neighbor:\n",
    "    def __init__(self):\n",
    "        pass\n",
    "    def fit(self, X, y):\n",
    "        self.X = X\n",
    "        self.y = y\n",
    "    def get_nearest(self, x):\n",
    "        distances = [distance(x, self.X[i]) for i in range(len(self.X))]\n",
    "        return np.argmin(distances)\n",
    "    def predict(self, x) :\n",
    "        return self.y[self.get_nearest(x)]"
   ]
  },
  {
   "cell_type": "markdown",
   "metadata": {},
   "source": [
    "To illustrate that, let's run the algorithm on a simple one-dimensional regression problem:"
   ]
  },
  {
   "cell_type": "code",
   "execution_count": 6,
   "metadata": {},
   "outputs": [
    {
     "name": "stdout",
     "output_type": "stream",
     "text": [
      "shape of training data:  (40, 1) (40,)\n"
     ]
    },
    {
     "data": {
      "image/png": "[encoded data removed]",
      "text/plain": [
       "<Figure size 432x288 with 1 Axes>"
      ]
     },
     "metadata": {
      "needs_background": "light"
     },
     "output_type": "display_data"
    }
   ],
   "source": [
    "from numpy.random import default_rng\n",
    "rng = default_rng(1)\n",
    "X = np.sort(5 * rng.random(40))\n",
    "y = np.sin(X) + rng.normal(0, 0.05, size=(len(X)))\n",
    "X = X[:, np.newaxis]\n",
    "print(\"shape of training data: \", X.shape, y.shape)\n",
    "\n",
    "nn = nearest_neighbor()\n",
    "nn.fit(X, y)\n",
    "\n",
    "X_test = np.linspace(0, 5, 500)[:, np.newaxis]\n",
    "y_pred = np.array([nn.predict(X_test[i]) for i in range(len(X_test))])\n",
    "plt.scatter(X, y, color='orange', label='data')\n",
    "plt.plot(X_test, y_pred, label='prediction')\n",
    "\n",
    "plt.legend();\n"
   ]
  },
  {
   "cell_type": "markdown",
   "metadata": {},
   "source": [
    "### Running time\n",
    "\n",
    "Predicting the class of a given input requires iteration over the entire training set of $N$ training examples.  Each step requires the computation of the distance to some training example, which requires time proportional to the number of dimensions.  In CS-speak, we say that it is $O(d)$ (see e.g. this article on [big-O notation](https://en.wikipedia.org/wiki/Big_O_notation)).  Therefore, the overall training time is proportional to $N\\cdot d$, i.e. is $O(N\\cdot d)$.  This can be expensive for large datasets."
   ]
  },
  {
   "cell_type": "markdown",
   "metadata": {},
   "source": [
    "\n",
    "### Pros and cons of nearest neighbor classification\n",
    "\n",
    "#### Pros\n",
    "\n",
    "* Simple to understand and implement\n",
    "* Trivial to train\n",
    "* Works for just about any learning problem:  classification, regression etc.\n",
    "* Highly expressive - decision boundary is not limited to any particular form\n",
    "* Easy to explain the results\n",
    "\n",
    "#### Cons\n",
    "\n",
    "* Expensive during testing\n",
    "* Accuracy can be low for high dimensional data; usually not the best performing classifier\n",
    "\n",
    "The drawbacks of the nearest neighbor classifier can be addressed to some extent as described next.\n"
   ]
  },
  {
   "cell_type": "markdown",
   "metadata": {},
   "source": [
    "### Improving the running time of nearest neighbor methods\n",
    "\n",
    "Solutions for improving the running time:\n",
    "\n",
    "* Condensing the dataset:  Retain only a relatively small fraction of the training data, as much of it is likely to be redundant.\n",
    "\n",
    "* Efficient data structures for representing and searching the training data.  These include KD-tree, ball-tree, vantage-point tree.  These tree-based methods can reduce the search time to be $O(\\log N)$.  The KD-tree and ball-tree methods are implemented in scikit-learn.\n",
    "\n"
   ]
  },
  {
   "cell_type": "markdown",
   "metadata": {},
   "source": [
    "### Improving the accuracy of the basic nearest neighbor classifier\n",
    "\n",
    "* Feature selection / removal of noisy features\n",
    "* Feature normalization / rescaling\n",
    "* Base the decision on multiple nearest neighbors.  This is referred to as **k-NN**.\n",
    "\n"
   ]
  },
  {
   "cell_type": "markdown",
   "metadata": {},
   "source": [
    "### k-nearest neighbors (k-NN)\n",
    "\n",
    "In this variant of the nearest neighbor algorithm the classification is decided based on the $k$ nearest neighbors of a test example.  How do we choose the predicted class label?  Typically a majority vote.  The distances can be used as weights for each vote.\n",
    "\n",
    "Let us illustrate the difference this makes in the decision boundary:"
   ]
  },
  {
   "cell_type": "code",
   "execution_count": 11,
   "metadata": {},
   "outputs": [],
   "source": [
    "from matplotlib.colors import ListedColormap\n",
    "\n",
    "def plot_boundary(classifier, X, y, num_plots=1, plot_num=1, title=None) :\n",
    "    \"\"\"\n",
    "    code based on:\n",
    "    https://scikit-learn.org/stable/auto_examples/neighbors/plot_classification.html\n",
    "    \"\"\"\n",
    "    classifier.fit(X, y)\n",
    "    # color maps\n",
    "    cmap_light = ListedColormap(['#FFAAAA', '#AAFFAA', '#AAAAFF'])\n",
    "    cmap_bold = ListedColormap(['#FF0000', '#00FF00', '#0000FF'])\n",
    "    # create a two dimensional grid of points\n",
    "    h = .02  # grid size\n",
    "    x_min, x_max = X[:, 0].min() - 0.2, X[:, 0].max() + 0.2\n",
    "    y_min, y_max = X[:, 1].min() - 0.2, X[:, 1].max() + 0.2\n",
    "    xx, yy = np.meshgrid(np.arange(x_min, x_max, h),\n",
    "                         np.arange(y_min, y_max, h))\n",
    "    Z = classifier.predict(np.c_[xx.ravel(), yy.ravel()])\n",
    "\n",
    "    # plot the predictions on the grid\n",
    "    Z = Z.reshape(xx.shape)\n",
    "    \n",
    "    ax = plt.subplot(1, num_plots, plot_num)\n",
    "\n",
    "    plt.pcolormesh(xx, yy, Z, cmap=cmap_light)\n",
    "\n",
    "    # plot the training points\n",
    "    plt.scatter(X[:, 0], X[:, 1], c=y, cmap=cmap_bold, alpha=0.5)\n",
    "    \n",
    "    plt.xlim(x_min, x_max)\n",
    "    plt.ylim(y_min, y_max)\n",
    "    if title is not None :\n",
    "        plt.title(title)\n",
    "    "
   ]
  },
  {
   "cell_type": "markdown",
   "metadata": {},
   "source": [
    "Let's compare a one-nearest neighbor with k-NN:"
   ]
  },
  {
   "cell_type": "code",
   "execution_count": 12,
   "metadata": {},
   "outputs": [
    {
     "data": {
      "image/png": "[encoded data removed]",
      "text/plain": [
       "<Figure size 720x360 with 2 Axes>"
      ]
     },
     "metadata": {
      "needs_background": "light"
     },
     "output_type": "display_data"
    }
   ],
   "source": [
    "from sklearn.datasets import make_classification\n",
    "X,y = make_classification(n_samples=100, n_features=2, n_informative=2, n_redundant=0, n_repeated=0, n_classes=2, n_clusters_per_class=1, class_sep=0.35, random_state=1)\n",
    "\n",
    "from sklearn.neighbors import KNeighborsClassifier\n",
    "plt.figure(figsize=(10,5))\n",
    "classifier = KNeighborsClassifier(1)\n",
    "plot_boundary(classifier, X, y, 2, 1, 'one-nearest-neighbor')\n",
    "\n",
    "classifier = KNeighborsClassifier(10)\n",
    "plot_boundary(classifier, X, y, 2, 2, '10-nearest-neighbor')\n"
   ]
  },
  {
   "cell_type": "code",
   "execution_count": 7,
   "metadata": {},
   "outputs": [
    {
     "data": {
      "text/plain": [
       "((569, 30), (569,))"
      ]
     },
     "execution_count": 7,
     "metadata": {},
     "output_type": "execute_result"
    }
   ],
   "source": [
    "from sklearn.datasets import load_breast_cancer\n",
    "X, y = load_breast_cancer(return_X_y = True)\n",
    "X.shape, y.shape"
   ]
  },
  {
   "cell_type": "code",
   "execution_count": 8,
   "metadata": {},
   "outputs": [],
   "source": [
    "from sklearn.model_selection import train_test_split\n",
    "X_train, X_test, y_train, y_test = train_test_split(X, y, \n",
    "    test_size=0.3, shuffle=True, random_state=1)"
   ]
  },
  {
   "cell_type": "code",
   "execution_count": 14,
   "metadata": {},
   "outputs": [
    {
     "data": {
      "image/png": "[encoded data removed]",
      "text/plain": [
       "<Figure size 432x288 with 1 Axes>"
      ]
     },
     "metadata": {
      "needs_background": "light"
     },
     "output_type": "display_data"
    }
   ],
   "source": [
    "num_neighbors = [1,3,5,10,15,20,25,30]\n",
    "test_accuracy = []\n",
    "training_accuracy = []\n",
    "for k in num_neighbors :\n",
    "    classifier = KNeighborsClassifier(k, p=2, weights='uniform')\n",
    "    classifier.fit(X_train, y_train)\n",
    "    y_pred = classifier.predict(X_test)\n",
    "    test_accuracy.append(np.sum(y_pred == y_test)/len(y_test))\n",
    "    y_pred = classifier.predict(X_train)\n",
    "    training_accuracy.append(np.sum(y_pred == y_train)/len(y_train))\n",
    "     \n",
    "plt.plot(num_neighbors, training_accuracy, 'or', alpha=0.5, label = 'training set')\n",
    "plt.xlabel('number of neighbors')\n",
    "plt.ylabel('accuracy');\n",
    "plt.plot(num_neighbors, test_accuracy, 'ob', alpha=0.5, label = 'test set')\n",
    "plt.legend();"
   ]
  },
  {
   "cell_type": "markdown",
   "metadata": {},
   "source": [
    "As we can see, using the k-NN classifier with $k>1$ instead of the one-nearest neighbor classifier leads to improved accuracy.\n",
    "For the one-nearest neighbor classifier we clearly see what is called **overfitting**:  perfect accuracy on the training set, and much lower accuracy on the test set."
   ]
  },
  {
   "cell_type": "markdown",
   "metadata": {},
   "source": [
    "### Question\n",
    "\n",
    "* Why do you expect the k-NN classifier with $k>1$ to perform better than the one-nearest neighbor classifier?"
   ]
  },
  {
   "cell_type": "markdown",
   "metadata": {},
   "source": [
    "### Distance functions \n",
    "\n",
    "The Euclidean distance is one of many ways for computing distance.  Recall that the Euclidean distance is defined by:\n",
    "$$\n",
    "d_2(\\mathbf{x}, \\mathbf{x}')^2 = ||\\mathbf{x} - \\mathbf{x}'||^2_2\n",
    "(\\mathbf{x} - \\mathbf{x}')^\\top (\\mathbf{x} - \\mathbf{x}') = \n",
    "\\sum_{i=1}^d (x_i - x_i')^2,\n",
    "$$\n",
    "where $||\\cdot||_2$ is the $L_2$ or Euclidean norm of a vector.\n",
    "\n",
    "The **Manhattan distance** is another common distance function that derives from the $L_1$ norm:\n",
    "$$\n",
    "d_1(\\mathbf{x}, \\mathbf{x}') = ||\\mathbf{x} - \\mathbf{x}'||_1\n",
    "\\sum_{i=1}^d |x_i - x_i'|,\n",
    "$$\n",
    "where $|x|$ is the absolute value.\n",
    "\n",
    "The **Minkowski distance** is a generalization of both of these distances.  It has a parameter $p\\geq 0$ and is defined by:\n",
    "$$\n",
    "d_p(\\mathbf{x}, \\mathbf{x}') = \n",
    "\\left( \\sum_{i=1}^d |x_i - x_i'|^p \\right)^{1/p}.\n",
    "$$\n",
    "The Euclidean distance is a special case with $p=2$, and is also called the $L_2$ distance; the Manhattan distance is another special case with $p=1$, and is also called the $L_1$ distance.\n",
    "\n",
    "The $L_1$ and $L_2$ distances are the most commonly used in machine learning.\n",
    "\n"
   ]
  },
  {
   "cell_type": "markdown",
   "metadata": {},
   "source": [
    "\n",
    "<img style=\"padding: 0px; float:right;\" alt=\"Circles in discrete and continuous taxicab geometry by Qef in public domain\" src=\"https://upload.wikimedia.org/wikipedia/commons/0/08/Manhattan_distance.svg\" width=\"150\">\n",
    "\n",
    "<img style=\"padding: 10px; float:right;\" alt=\"Taxicab geometry versus Euclidean distance by User:Psychonaut in public domain\" src=\"https://upload.wikimedia.org/wikipedia/commons/d/de/TaxicabGeometryCircle.svg\" width=\"150\">\n",
    "\n",
    "\n",
    "### The geometry of the L$_1$ distance\n",
    "\n",
    "\n",
    "Let's talk about circles.  A circle is the set of points that are a fixed distance from its center.  A circle with respect to the $L_1$ distance looks quite different than what we are used to.\n",
    "In fact, as shown on the right, a circle under the Manhattan distance looks like a square!  \n",
    "\n",
    "For another interesting property consider the two points on the right:  the green line is the shortest path in the Euclidean distance; in the Manhattan distance, the shortest path is not unique, and the blue, green, and yellow paths all have the same distance."
   ]
  },
  {
   "cell_type": "markdown",
   "metadata": {},
   "source": [
    "### Question\n",
    "\n",
    "* What is the equation for the points on a unit circle in two dimensions under the $L_1$ and $L_2$ distances?\n"
   ]
  },
  {
   "cell_type": "markdown",
   "metadata": {},
   "source": [
    "The different geometry of the two ways of measuring distance makes their Voronoi diagrams different, which translates to a difference in the shape of the decision boundary.  \n",
    "\n",
    "<img style=\"padding: 10px; float:right;\" alt=\"Voronoi diagram by Balu Ertl CC BY-SA 4.0\" src=\"https://upload.wikimedia.org/wikipedia/commons/5/54/Euclidean_Voronoi_diagram.svg\" width=\"300\">\n",
    "\n",
    "<img style=\"padding: 10px; float:right;\" alt=\"Manhattan distance by Balu Ertl CC BY-SA 1.0\" src=\"https://upload.wikimedia.org/wikipedia/commons/6/6d/Manhattan_Voronoi_Diagram.svg\" width=\"300\">\n",
    "\n"
   ]
  },
  {
   "cell_type": "markdown",
   "metadata": {},
   "source": [
    "At this point, let's see which distance works better for our example dataset."
   ]
  },
  {
   "cell_type": "code",
   "execution_count": 42,
   "metadata": {},
   "outputs": [
    {
     "data": {
      "image/png": "[encoded data removed]",
      "text/plain": [
       "<Figure size 432x288 with 1 Axes>"
      ]
     },
     "metadata": {
      "needs_background": "light"
     },
     "output_type": "display_data"
    }
   ],
   "source": [
    "num_neighbors = [1,3,5,10,15,20,25,30]\n",
    "accuracy_l1 = []\n",
    "accuracy_l2 = []\n",
    "for k in num_neighbors :\n",
    "    classifier = KNeighborsClassifier(k, p=1, weights='uniform')                              \n",
    "    classifier.fit(X_train, y_train)\n",
    "    y_pred = classifier.predict(X_test)\n",
    "    accuracy_l1.append(np.sum(y_pred == y_test)/len(y_test))\n",
    "\n",
    "    classifier = KNeighborsClassifier(k, p=2, weights='uniform')\n",
    "    classifier.fit(X_train, y_train)\n",
    "    y_pred = classifier.predict(X_test)\n",
    "    accuracy_l2.append(np.sum(y_pred == y_test)/len(y_test))\n",
    "    \n",
    "plt.plot(num_neighbors, accuracy_l1, 'ob', alpha=0.5, label='L1 distance')\n",
    "plt.plot(num_neighbors, accuracy_l2, 'dg', alpha=0.5, label='L2 distance')\n",
    "plt.legend()\n",
    "plt.xlabel('number of neighbors')\n",
    "plt.ylabel('accuracy');\n"
   ]
  },
  {
   "cell_type": "markdown",
   "metadata": {},
   "source": [
    "Based on this plot, you might be tempted to say that $L_1$ works better for this dataset.  But try different train-test splits, and this may no longer be the case."
   ]
  },
  {
   "cell_type": "code",
   "execution_count": null,
   "metadata": {},
   "outputs": [],
   "source": []
  }
 ],
 "metadata": {
  "kernelspec": {
   "display_name": "Python 3",
   "language": "python",
   "name": "python3"
  },
  "language_info": {
   "codemirror_mode": {
    "name": "ipython",
    "version": 3
   },
   "file_extension": ".py",
   "mimetype": "text/x-python",
   "name": "python",
   "nbconvert_exporter": "python",
   "pygments_lexer": "ipython3",
   "version": "3.7.6"
  }
 },
 "nbformat": 4,
 "nbformat_minor": 1
}
